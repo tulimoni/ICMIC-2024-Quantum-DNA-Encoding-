{
  "nbformat": 4,
  "nbformat_minor": 0,
  "metadata": {
    "colab": {
      "provenance": []
    },
    "kernelspec": {
      "name": "python3",
      "display_name": "Python 3"
    },
    "language_info": {
      "name": "python"
    }
  },
  "cells": [
    {
      "cell_type": "code",
      "execution_count": 17,
      "metadata": {
        "id": "b6mBXfedkNHv",
        "colab": {
          "base_uri": "https://localhost:8080/"
        },
        "outputId": "e84a2807-64fc-429c-e7fd-aa09f739ed7e"
      },
      "outputs": [
        {
          "output_type": "stream",
          "name": "stdout",
          "text": [
            "Collecting pylatexenc\n",
            "  Downloading pylatexenc-2.10.tar.gz (162 kB)\n",
            "\u001b[?25l     \u001b[90m━━━━━━━━━━━━━━━━━━━━━━━━━━━━━━━━━━━━━━━━\u001b[0m \u001b[32m0.0/162.6 kB\u001b[0m \u001b[31m?\u001b[0m eta \u001b[36m-:--:--\u001b[0m\r\u001b[2K     \u001b[91m━━━━━━━━━━━━━━━━━━━━━━━━━━━━━━\u001b[0m\u001b[90m╺\u001b[0m\u001b[90m━━━━━━━━━\u001b[0m \u001b[32m122.9/162.6 kB\u001b[0m \u001b[31m3.5 MB/s\u001b[0m eta \u001b[36m0:00:01\u001b[0m\r\u001b[2K     \u001b[90m━━━━━━━━━━━━━━━━━━━━━━━━━━━━━━━━━━━━━━━━\u001b[0m \u001b[32m162.6/162.6 kB\u001b[0m \u001b[31m3.3 MB/s\u001b[0m eta \u001b[36m0:00:00\u001b[0m\n",
            "\u001b[?25h  Preparing metadata (setup.py) ... \u001b[?25l\u001b[?25hdone\n",
            "Building wheels for collected packages: pylatexenc\n",
            "  Building wheel for pylatexenc (setup.py) ... \u001b[?25l\u001b[?25hdone\n",
            "  Created wheel for pylatexenc: filename=pylatexenc-2.10-py3-none-any.whl size=136816 sha256=72396221719006e5ea2e05cc67bb0a99969b0bc28e41ad30a055d878c5b89b7b\n",
            "  Stored in directory: /root/.cache/pip/wheels/d3/31/8b/e09b0386afd80cfc556c00408c9aeea5c35c4d484a9c762fd5\n",
            "Successfully built pylatexenc\n",
            "Installing collected packages: pylatexenc\n",
            "Successfully installed pylatexenc-2.10\n"
          ]
        }
      ],
      "source": [
        "!pip install pylatexenc"
      ]
    },
    {
      "cell_type": "code",
      "source": [
        "!pip install --quiet qiskit ipywidgets"
      ],
      "metadata": {
        "colab": {
          "base_uri": "https://localhost:8080/"
        },
        "id": "ZAtnq160kaGb",
        "outputId": "968cfd30-6602-46e8-c2c6-e1d54d3d72f4"
      },
      "execution_count": 3,
      "outputs": [
        {
          "output_type": "stream",
          "name": "stdout",
          "text": [
            "\u001b[2K     \u001b[90m━━━━━━━━━━━━━━━━━━━━━━━━━━━━━━━━━━━━━━━━\u001b[0m \u001b[32m4.3/4.3 MB\u001b[0m \u001b[31m29.0 MB/s\u001b[0m eta \u001b[36m0:00:00\u001b[0m\n",
            "\u001b[2K     \u001b[90m━━━━━━━━━━━━━━━━━━━━━━━━━━━━━━━━━━━━━━━━\u001b[0m \u001b[32m2.1/2.1 MB\u001b[0m \u001b[31m52.2 MB/s\u001b[0m eta \u001b[36m0:00:00\u001b[0m\n",
            "\u001b[2K     \u001b[90m━━━━━━━━━━━━━━━━━━━━━━━━━━━━━━━━━━━━━━━━\u001b[0m \u001b[32m116.3/116.3 kB\u001b[0m \u001b[31m11.6 MB/s\u001b[0m eta \u001b[36m0:00:00\u001b[0m\n",
            "\u001b[2K     \u001b[90m━━━━━━━━━━━━━━━━━━━━━━━━━━━━━━━━━━━━━━━━\u001b[0m \u001b[32m49.7/49.7 kB\u001b[0m \u001b[31m4.7 MB/s\u001b[0m eta \u001b[36m0:00:00\u001b[0m\n",
            "\u001b[2K     \u001b[90m━━━━━━━━━━━━━━━━━━━━━━━━━━━━━━━━━━━━━━━━\u001b[0m \u001b[32m39.4/39.4 MB\u001b[0m \u001b[31m13.1 MB/s\u001b[0m eta \u001b[36m0:00:00\u001b[0m\n",
            "\u001b[2K     \u001b[90m━━━━━━━━━━━━━━━━━━━━━━━━━━━━━━━━━━━━━━━━\u001b[0m \u001b[32m1.6/1.6 MB\u001b[0m \u001b[31m55.5 MB/s\u001b[0m eta \u001b[36m0:00:00\u001b[0m\n",
            "\u001b[2K     \u001b[90m━━━━━━━━━━━━━━━━━━━━━━━━━━━━━━━━━━━━━━━━\u001b[0m \u001b[32m107.5/107.5 kB\u001b[0m \u001b[31m12.0 MB/s\u001b[0m eta \u001b[36m0:00:00\u001b[0m\n",
            "\u001b[?25h"
          ]
        }
      ]
    },
    {
      "cell_type": "code",
      "source": [
        "!pip3 install --quiet qiskit-aer"
      ],
      "metadata": {
        "colab": {
          "base_uri": "https://localhost:8080/"
        },
        "id": "SwcvMcI6kjiD",
        "outputId": "eb9b6bfe-04e7-4273-d008-fc59ca61f929"
      },
      "execution_count": 4,
      "outputs": [
        {
          "output_type": "stream",
          "name": "stdout",
          "text": [
            "\u001b[2K     \u001b[90m━━━━━━━━━━━━━━━━━━━━━━━━━━━━━━━━━━━━━━━━\u001b[0m \u001b[32m12.3/12.3 MB\u001b[0m \u001b[31m46.7 MB/s\u001b[0m eta \u001b[36m0:00:00\u001b[0m\n",
            "\u001b[?25h"
          ]
        }
      ]
    },
    {
      "cell_type": "code",
      "source": [
        "from qiskit import QuantumCircuit, assemble,transpile\n",
        "from qiskit_aer import Aer\n",
        "from qiskit.visualization import plot_histogram\n",
        "import numpy as np"
      ],
      "metadata": {
        "id": "78GWs8WKknfz"
      },
      "execution_count": 5,
      "outputs": []
    },
    {
      "cell_type": "code",
      "source": [
        "from qiskit.visualization import plot_histogram\n",
        "import matplotlib.pyplot as plt\n",
        "from qiskit.visualization import plot_circuit_layout\n",
        "from qiskit import QuantumCircuit\n",
        "# DNA Mapping Table\n",
        "dna_mapping = {\n",
        "    '00': 'A',\n",
        "    '01': 'C',\n",
        "    '10': 'G',\n",
        "    '11': 'T'\n",
        "}\n",
        "\n",
        "# Reverse DNA Mapping Table\n",
        "reverse_dna_mapping = {v: k for k, v in dna_mapping.items()}\n",
        "\n",
        "# Rules Table\n",
        "rules_table = {\n",
        "    '↑': 'TGCA',  # Example rule for up arrow\n",
        "    '↓': 'ACGT',  # Example rule for down arrow\n",
        "    '→': 'GACT',  # Example rule for right arrow\n",
        "    '←': 'CTGA'   # Example rule for left arrow\n",
        "}\n",
        "\n",
        "# Function to map bits to nucleotides\n",
        "def bits_to_nucleotides(bits):\n",
        "    return ''.join(dna_mapping[bits[i:i+2]] for i in range(0, len(bits), 2))\n",
        "\n",
        "# Function to map nucleotides to bits\n",
        "def nucleotides_to_bits(nucleotides):\n",
        "    return ''.join(reverse_dna_mapping[nuc] for nuc in nucleotides)\n",
        "\n",
        "# Function to divide information into blocks\n",
        "def divide_into_blocks(info, block_size):\n",
        "    return [info[i:i+block_size] for i in range(0, len(info), block_size)]\n",
        "\n",
        "# Function to permute using a rule\n",
        "def permute_block(block, rule):\n",
        "    if not all(nuc in 'ACGT' for nuc in block):\n",
        "        raise ValueError(f\"Block contains invalid nucleotides: {block}\")\n",
        "    return ''.join(rule['ACGT'.index(nuc)] for nuc in block)\n",
        "\n",
        "# Function to invert permutation\n",
        "def invert_permutation(block, rule):\n",
        "    inv_rule = ''.join(sorted(rule, key=rule.index))\n",
        "    return ''.join(inv_rule['ACGT'.index(nuc)] for nuc in block)\n",
        "\n",
        "# Function to create a quantum circuit for permutation\n",
        "def create_permutation_circuit(block, rule):\n",
        "    n = len(block)\n",
        "    qc = QuantumCircuit(n, n)\n",
        "    for i, nuc in enumerate(block):\n",
        "        if nuc == 'C':\n",
        "            qc.x(i)\n",
        "        elif nuc == 'G':\n",
        "            qc.y(i)\n",
        "        elif nuc == 'T':\n",
        "            qc.z(i)\n",
        "    qc.barrier()\n",
        "    return qc\n",
        "\n",
        "# Function to add measurement to a circuit\n",
        "def add_measurement(qc):\n",
        "    n = qc.num_qubits\n",
        "    qc.measure(range(n), range(n))\n",
        "    return qc\n",
        "\n",
        "# Function to simulate quantum circuit and return results\n",
        "def simulate_circuit(qc):\n",
        "    backend = Aer.get_backend('qasm_simulator')\n",
        "    transpiled_qc = transpile(qc, backend)\n",
        "    #qobj = assemble(transpiled_qc)\n",
        "    result = backend.run(transpiled_qc).result()\n",
        "    counts = result.get_counts()\n",
        "    return counts\n",
        "\n",
        "# Sender side\n",
        "def sender(info_bits, basis):\n",
        "    # Step 1: Map bits to nucleotides\n",
        "    nucleotides = bits_to_nucleotides(info_bits)\n",
        "    print(f\"Nucleotides: {nucleotides}\")\n",
        "\n",
        "    # Divide nucleotides into blocks\n",
        "    k = 4  # Example block size\n",
        "    blocks = divide_into_blocks(nucleotides, k)\n",
        "    print(f\"Blocks: {blocks}\")\n",
        "\n",
        "    # Step 2: Encrypt blocks using permutation\n",
        "    rule = rules_table[basis]\n",
        "    encrypted_blocks = []\n",
        "    encrypted_message_counts = {}\n",
        "    for block in blocks:\n",
        "        try:\n",
        "            encrypted_block = permute_block(block, rule)\n",
        "            encrypted_blocks.append(encrypted_block)\n",
        "\n",
        "            # Create quantum circuit for the permutation\n",
        "            qc = create_permutation_circuit(block, rule)\n",
        "\n",
        "            # Add measurement to the circuit\n",
        "            qc = add_measurement(qc)\n",
        "\n",
        "            # Simulate the encryption circuit\n",
        "            counts = simulate_circuit(qc)\n",
        "            encrypted_message_counts[block] = counts\n",
        "\n",
        "            # Print the quantum circuit\n",
        "            print(f\"Quantum Circuit for block {block}:\")\n",
        "            print(qc.draw(output='text'))\n",
        "\n",
        "            # Plot the measurement results\n",
        "            plot_histogram(counts)\n",
        "            plt.show()\n",
        "\n",
        "        except ValueError as e:\n",
        "            print(f\"Error permuting block: {e}\")\n",
        "            raise\n",
        "\n",
        "    print(f\"Encrypted blocks: {encrypted_blocks}\")\n",
        "\n",
        "    return encrypted_message_counts, basis\n",
        "\n",
        "# Receiver side\n",
        "def receiver(encrypted_message_counts, basis):\n",
        "    # Step 4: Decrypt using inverse permutation\n",
        "    rule = rules_table[basis]\n",
        "\n",
        "    # Invert permutation\n",
        "    inv_rule = ''.join(sorted(rule, key=rule.index))\n",
        "    decrypted_blocks = []\n",
        "    for encrypted_block in encrypted_message_counts:\n",
        "        decrypted_block = invert_permutation(encrypted_block, inv_rule)\n",
        "        decrypted_blocks.append(decrypted_block)\n",
        "\n",
        "    decrypted_message = ''.join(decrypted_blocks)\n",
        "\n",
        "    return decrypted_message\n",
        "\n",
        "# Example usage\n",
        "info_bits = '0001101100111010'  # Example bit string\n",
        "basis = '↓'\n",
        "print(f'Information bits: {info_bits}')\n",
        "print(f'Basis: {basis}')\n",
        "encrypted_message_counts, basis = sender(info_bits, basis)\n",
        "print(f'Encrypted message counts: {encrypted_message_counts}')\n",
        "\n",
        "decrypted_message = receiver(encrypted_message_counts, basis)\n",
        "print(f'Decrypted message: {decrypted_message}')\n",
        "\n"
      ],
      "metadata": {
        "colab": {
          "base_uri": "https://localhost:8080/"
        },
        "id": "PddNnNi52x2B",
        "outputId": "8cb94156-0e6a-4c52-a376-e8c360f631dd"
      },
      "execution_count": 27,
      "outputs": [
        {
          "output_type": "stream",
          "name": "stdout",
          "text": [
            "Information bits: 0001101100111010\n",
            "Basis: ↓\n",
            "Nucleotides: ACGTATGG\n",
            "Blocks: ['ACGT', 'ATGG']\n",
            "Quantum Circuit for block ACGT:\n",
            "           ░ ┌─┐         \n",
            "q_0: ──────░─┤M├─────────\n",
            "     ┌───┐ ░ └╥┘┌─┐      \n",
            "q_1: ┤ X ├─░──╫─┤M├──────\n",
            "     ├───┤ ░  ║ └╥┘┌─┐   \n",
            "q_2: ┤ Y ├─░──╫──╫─┤M├───\n",
            "     ├───┤ ░  ║  ║ └╥┘┌─┐\n",
            "q_3: ┤ Z ├─░──╫──╫──╫─┤M├\n",
            "     └───┘ ░  ║  ║  ║ └╥┘\n",
            "c: 4/═════════╩══╩══╩══╩═\n",
            "              0  1  2  3 \n",
            "Quantum Circuit for block ATGG:\n",
            "           ░ ┌─┐         \n",
            "q_0: ──────░─┤M├─────────\n",
            "     ┌───┐ ░ └╥┘┌─┐      \n",
            "q_1: ┤ Z ├─░──╫─┤M├──────\n",
            "     ├───┤ ░  ║ └╥┘┌─┐   \n",
            "q_2: ┤ Y ├─░──╫──╫─┤M├───\n",
            "     ├───┤ ░  ║  ║ └╥┘┌─┐\n",
            "q_3: ┤ Y ├─░──╫──╫──╫─┤M├\n",
            "     └───┘ ░  ║  ║  ║ └╥┘\n",
            "c: 4/═════════╩══╩══╩══╩═\n",
            "              0  1  2  3 \n",
            "Encrypted blocks: ['ACGT', 'ATGG']\n",
            "Encrypted message counts: {'ACGT': {'0110': 1024}, 'ATGG': {'1100': 1024}}\n",
            "\n",
            "\n",
            "Decrypted message: ACGTATGG\n",
            "Decrypted bits: 0001101100111010\n",
            "\n",
            "\n"
          ]
        }
      ]
    }
  ]
}